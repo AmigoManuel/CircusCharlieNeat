{
 "cells": [
  {
   "cell_type": "markdown",
   "metadata": {},
   "source": [
    "# Circus Charlie"
   ]
  },
  {
   "cell_type": "markdown",
   "metadata": {},
   "source": [
    "## Librerias a utilizar"
   ]
  },
  {
   "cell_type": "markdown",
   "metadata": {},
   "source": [
    "Entorno de emulación retro-gym"
   ]
  },
  {
   "cell_type": "code",
   "execution_count": 1,
   "metadata": {},
   "outputs": [],
   "source": [
    "import retro"
   ]
  },
  {
   "cell_type": "markdown",
   "metadata": {},
   "source": [
    "Opencv es una librería de visión artificial, utilizada para redimensionar y transformar imágenes"
   ]
  },
  {
   "cell_type": "code",
   "execution_count": 2,
   "metadata": {},
   "outputs": [],
   "source": [
    "import cv2"
   ]
  },
  {
   "cell_type": "markdown",
   "metadata": {},
   "source": [
    "Numpy utilizado para transformar frames a matrices"
   ]
  },
  {
   "cell_type": "code",
   "execution_count": 3,
   "metadata": {},
   "outputs": [],
   "source": [
    "import numpy as np"
   ]
  },
  {
   "cell_type": "markdown",
   "metadata": {},
   "source": [
    "Pickle destinado a dumpear variables importantes"
   ]
  },
  {
   "cell_type": "code",
   "execution_count": 4,
   "metadata": {},
   "outputs": [],
   "source": [
    "import pickle"
   ]
  },
  {
   "cell_type": "markdown",
   "metadata": {},
   "source": [
    "Neat es una librería destinada a la configuración de redes neuronales con algoritmos genéticos en base a parámetros entregados de forma sencilla"
   ]
  },
  {
   "cell_type": "code",
   "execution_count": 5,
   "metadata": {},
   "outputs": [],
   "source": [
    "import neat"
   ]
  },
  {
   "cell_type": "markdown",
   "metadata": {},
   "source": [
    "## Descripción del entorno\n",
    "Mediante el siguiente comando se inicializa el entorno retro-gym"
   ]
  },
  {
   "cell_type": "code",
   "execution_count": 6,
   "metadata": {},
   "outputs": [],
   "source": [
    "env = retro.make(game='CircusCharlie-Nes',state='CircusCharlie.level2.1live',record=True)"
   ]
  },
  {
   "cell_type": "markdown",
   "metadata": {},
   "source": [
    "El entorno obtenido es en base a el videojuego seleccionado y el estado inicial del cual comenzar un generación"
   ]
  },
  {
   "cell_type": "markdown",
   "metadata": {},
   "source": [
    "## Implementación"
   ]
  },
  {
   "cell_type": "markdown",
   "metadata": {},
   "source": [
    "### Parametros de conversión.\n",
    "Obtiene el ancho y alto que tendra cada frame"
   ]
  },
  {
   "cell_type": "code",
   "execution_count": 9,
   "metadata": {},
   "outputs": [],
   "source": [
    "width,height,_ = env.observation_space.shape"
   ]
  },
  {
   "cell_type": "code",
   "execution_count": 12,
   "metadata": {},
   "outputs": [
    {
     "name": "stdout",
     "output_type": "stream",
     "text": [
      "224 x 240 pixels\n"
     ]
    }
   ],
   "source": [
    "print(width,'x',height,'pixels')"
   ]
  },
  {
   "cell_type": "markdown",
   "metadata": {},
   "source": [
    "Reduce ambos a una octava parte, para luego redimensionar la imagen."
   ]
  },
  {
   "cell_type": "code",
   "execution_count": 13,
   "metadata": {},
   "outputs": [
    {
     "name": "stdout",
     "output_type": "stream",
     "text": [
      "28 x 30 pixels\n"
     ]
    }
   ],
   "source": [
    "width = int(width/8)\n",
    "height = int(height/8)\n",
    "print(width,'x',height,'pixels')"
   ]
  },
  {
   "cell_type": "markdown",
   "metadata": {},
   "source": [
    "### Conversión de imagen\n",
    "La siguiente función recibe como parametro un frame y retorna su conversión a un arreglo unidimensional"
   ]
  },
  {
   "cell_type": "code",
   "execution_count": 14,
   "metadata": {},
   "outputs": [],
   "source": [
    "def frame_to_array(ob):\n",
    "    # Redimensiona el frame a una octava parte del mismo\n",
    "    ob = cv2.resize(ob,(width,height))\n",
    "    # Transforma el frame a escala de grises\n",
    "    # El color no es importante solo significa más ruido para analizar\n",
    "    ob = cv2.cvtColor(ob, cv2.COLOR_BGR2GRAY)\n",
    "    # Transforma el frame cv2 a matriz numpy\n",
    "    ob = np.reshape(ob,(width,height))\n",
    "    # Transforma frame de una matriz bidimensional a un arreglo unidimensional\n",
    "    return ob.flatten()"
   ]
  },
  {
   "cell_type": "markdown",
   "metadata": {},
   "source": [
    "### Funión de evaluación\n",
    "La función a continuación recibe la cantidad de genomas a ejecutar y los parametros ya definidos para la red neuronal"
   ]
  },
  {
   "cell_type": "code",
   "execution_count": 18,
   "metadata": {},
   "outputs": [],
   "source": [
    "def eval_genomes(genomes, config):\n",
    "    for genome_id, genome in genomes:\n",
    "        # Primer frame\n",
    "        ob = env.reset()\n",
    "        # Inicializa la red neuronal\n",
    "        net = neat.nn.RecurrentNetwork.create(genome,config)\n",
    "        # Mayor puntaje obtenido para la generación actual\n",
    "        current_max_score = 0\n",
    "        # Puntaje obtenido por el genome actual\n",
    "        current_score = 0\n",
    "        # Contador de la cantidad de movimientos\n",
    "        # realizados por el gnome con mayor puntaje\n",
    "        counter = 0\n",
    "        # Valor de estado actual, indica si la partida acaba\n",
    "        done = False\n",
    "        # Mientras la partida no acabe\n",
    "        while not done:\n",
    "            #env.render()\n",
    "            # Transforma el frame anterior a un arreglo unidimensional\n",
    "            oned_image = frame_to_array(ob)\n",
    "            # Recibe el output desde la red neuronal a partir del frame entregado\n",
    "            neuralnet_output = net.activate(oned_image)\n",
    "            # Movimiento de salida redondeado a su valor entero mas proximo 0 o 1.\n",
    "            neuralnet_output = [round(button,0) for button in neuralnet_output]\n",
    "            # Ejecuta acción obtenida anteriormente\n",
    "            # Obteniendo un nuevo frame ob\n",
    "            # un nuevo reward dependiendo del movimiento realizado\n",
    "            # y un nuevo indicador de done para saber el estado de Charlie\n",
    "            ob, rew, done, _info = env.step(neuralnet_output)\n",
    "\n",
    "            # Añade el reward obtenido al punaje del genome actual\n",
    "            current_score += rew\n",
    "            # Si el puntaje obtenido por el genome actual\n",
    "            # es mayor que el maximo de toda la generación\n",
    "            if current_score>current_max_score:\n",
    "                # El puntaje obtenido pasa a ser el nuevo maximo\n",
    "                current_max_score = current_score\n",
    "                # Reinicia el contador de pasos para llegar a este\n",
    "                counter = 0\n",
    "            # De no cumplirse\n",
    "            else:\n",
    "                # Suma al contador de pasos hasta llegar a este\n",
    "                counter+=1\n",
    "\n",
    "            # Si la partida acaba (mono colisiona con Charlie)\n",
    "            if done:\n",
    "                # Marca la partida como terminada\n",
    "                done = True \n",
    "                # Despliega el numero del genome con su puntaje obtenido\n",
    "                print(genome_id,current_score)\n",
    "\n",
    "            # Actualiza el puntaje del genoma por cada iteración de este\n",
    "            genome.fitness = current_score"
   ]
  },
  {
   "cell_type": "markdown",
   "metadata": {},
   "source": [
    "Para este caso la cantidad de genomes por generación estara estipulada en el fichero de configuración que es almacenado en la variable config, por tener las funcionalidades de un algoritmo genetico el tamaño de la población no debe ser muy bajo."
   ]
  },
  {
   "cell_type": "markdown",
   "metadata": {},
   "source": [
    "### main"
   ]
  },
  {
   "cell_type": "code",
   "execution_count": null,
   "metadata": {},
   "outputs": [],
   "source": [
    "if __name__ == \"__main__\":\n",
    "\n",
    "    # Inicializa la configuración de la red neuronal y las caracteristicas de los genomas\n",
    "    config = neat.Config(neat.DefaultGenome, neat.DefaultReproduction,neat.DefaultSpeciesSet, neat.DefaultStagnation,'config-feedforward')\n",
    "\n",
    "    p = neat.Population(config)\n",
    "\n",
    "    p.add_reporter(neat.StdOutReporter(True))\n",
    "    p.add_reporter(neat.StatisticsReporter())\n",
    "    # Guardar cada 10 frames\n",
    "    p.add_reporter(neat.Checkpointer(10))\n",
    "\n",
    "    winner = p.run(eval_genomes)\n",
    "\n",
    "    with open('winner.pkl', 'wb') as output:\n",
    "        pickle.dump(winner, output, 1)"
   ]
  }
 ],
 "metadata": {
  "kernelspec": {
   "display_name": "Python 3",
   "language": "python",
   "name": "python3"
  },
  "language_info": {
   "codemirror_mode": {
    "name": "ipython",
    "version": 3
   },
   "file_extension": ".py",
   "mimetype": "text/x-python",
   "name": "python",
   "nbconvert_exporter": "python",
   "pygments_lexer": "ipython3",
   "version": "3.7.3"
  }
 },
 "nbformat": 4,
 "nbformat_minor": 2
}
