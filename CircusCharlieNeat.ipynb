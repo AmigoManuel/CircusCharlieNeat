{
 "cells": [
  {
   "cell_type": "markdown",
   "metadata": {},
   "source": [
    "# Circus Charlie"
   ]
  },
  {
   "cell_type": "markdown",
   "metadata": {},
   "source": [
    "## Librerias a utilizar"
   ]
  },
  {
   "cell_type": "markdown",
   "metadata": {},
   "source": [
    "Entorno de emulación retro-gym"
   ]
  },
  {
   "cell_type": "code",
   "execution_count": 1,
   "metadata": {},
   "outputs": [],
   "source": [
    "import retro"
   ]
  },
  {
   "cell_type": "markdown",
   "metadata": {},
   "source": [
    "Opencv es una librería de visión artificial, utilizada para redimensionar y transformar imágenes"
   ]
  },
  {
   "cell_type": "code",
   "execution_count": 2,
   "metadata": {},
   "outputs": [],
   "source": [
    "import cv2"
   ]
  },
  {
   "cell_type": "markdown",
   "metadata": {},
   "source": [
    "Numpy utilizado para transformar frames a matrices"
   ]
  },
  {
   "cell_type": "code",
   "execution_count": 3,
   "metadata": {},
   "outputs": [],
   "source": [
    "import numpy as np"
   ]
  },
  {
   "cell_type": "markdown",
   "metadata": {},
   "source": [
    "Pickle destinado a dumpear variables importantes"
   ]
  },
  {
   "cell_type": "code",
   "execution_count": 4,
   "metadata": {},
   "outputs": [],
   "source": [
    "import pickle"
   ]
  },
  {
   "cell_type": "markdown",
   "metadata": {},
   "source": [
    "Neat es una librería destinada a la configuración de redes neuronales con algoritmos genéticos en base a parámetros entregados de forma sencilla"
   ]
  },
  {
   "cell_type": "code",
   "execution_count": 5,
   "metadata": {},
   "outputs": [],
   "source": [
    "import neat"
   ]
  },
  {
   "cell_type": "markdown",
   "metadata": {},
   "source": [
    "## Descripción del entorno\n",
    "Mediante el siguiente comando se inicializa el entorno retro-gym"
   ]
  },
  {
   "cell_type": "code",
   "execution_count": 6,
   "metadata": {},
   "outputs": [],
   "source": [
    "env = retro.make(game='CircusCharlie-Nes',state='CircusCharlie.level2.1live',record=True)"
   ]
  },
  {
   "cell_type": "markdown",
   "metadata": {},
   "source": [
    "El entorno obtenido es en base a el videojuego seleccionado y el estado inicial del cual comenzar un generación"
   ]
  },
  {
   "cell_type": "markdown",
   "metadata": {},
   "source": [
    "## Implementación"
   ]
  },
  {
   "cell_type": "markdown",
   "metadata": {},
   "source": [
    "### Parametros de conversión.\n",
    "Obtiene el ancho y alto que tendra cada frame"
   ]
  },
  {
   "cell_type": "code",
   "execution_count": 7,
   "metadata": {},
   "outputs": [],
   "source": [
    "width,height,_ = env.observation_space.shape"
   ]
  },
  {
   "cell_type": "code",
   "execution_count": 8,
   "metadata": {},
   "outputs": [
    {
     "name": "stdout",
     "output_type": "stream",
     "text": [
      "224 x 240 pixels\n"
     ]
    }
   ],
   "source": [
    "print(width,'x',height,'pixels')"
   ]
  },
  {
   "cell_type": "markdown",
   "metadata": {},
   "source": [
    "Reduce ambos a una octava parte, para luego redimensionar la imagen."
   ]
  },
  {
   "cell_type": "code",
   "execution_count": 9,
   "metadata": {},
   "outputs": [
    {
     "name": "stdout",
     "output_type": "stream",
     "text": [
      "28 x 30 pixels\n"
     ]
    }
   ],
   "source": [
    "width = int(width/8)\n",
    "height = int(height/8)\n",
    "print(width,'x',height,'pixels')"
   ]
  },
  {
   "cell_type": "markdown",
   "metadata": {},
   "source": [
    "### Conversión de imagen\n",
    "La siguiente función recibe como parametro un frame y retorna su conversión a un arreglo unidimensional"
   ]
  },
  {
   "cell_type": "code",
   "execution_count": 10,
   "metadata": {},
   "outputs": [],
   "source": [
    "def frame_to_array(ob):\n",
    "    # Redimensiona el frame a una octava parte del mismo\n",
    "    ob = cv2.resize(ob,(width,height))\n",
    "    # Transforma el frame a escala de grises\n",
    "    # El color no es importante solo significa más ruido para analizar\n",
    "    ob = cv2.cvtColor(ob, cv2.COLOR_BGR2GRAY)\n",
    "    # Transforma el frame cv2 a matriz numpy\n",
    "    ob = np.reshape(ob,(width,height))\n",
    "    # Transforma frame de una matriz bidimensional a un arreglo unidimensional\n",
    "    return ob.flatten()"
   ]
  },
  {
   "cell_type": "markdown",
   "metadata": {},
   "source": [
    "### Función de fitness\n",
    "Evalua los parametros obtenidos al realizar una acción en la función de fitness actualizando este valor para el genoma actual"
   ]
  },
  {
   "cell_type": "code",
   "execution_count": 11,
   "metadata": {},
   "outputs": [],
   "source": [
    "def fitness_function(current_score,rew,jump_score_variation,backward_walk):\n",
    "    current_score += (rew+(jump_score_variation)*50-backward_walk*0.1)\n",
    "    return current_score"
   ]
  },
  {
   "cell_type": "markdown",
   "metadata": {},
   "source": [
    "Los parametros que utiliza son el escore actual acumulado, el reward obtenido de la acción anterior realizada por el genoma (1 ó 0), los saltos sobre los simios producto de la acción anterior y la penalización por retroceder."
   ]
  },
  {
   "cell_type": "markdown",
   "metadata": {},
   "source": [
    "### Funión de evaluación\n",
    "La función a continuación recibe la cantidad de genomas a ejecutar y los parametros ya definidos para la red neuronal"
   ]
  },
  {
   "cell_type": "code",
   "execution_count": 12,
   "metadata": {},
   "outputs": [],
   "source": [
    "def eval_genomes(genomes, config):\n",
    "    for genome_id, genome in genomes:\n",
    "        # Primer frame\n",
    "        ob = env.reset()\n",
    "        # Inicializa la red neuronal\n",
    "        net = neat.nn.RecurrentNetwork.create(genome,config)\n",
    "        # Mayor puntaje obtenido para la generación actual\n",
    "        current_max_score = 0\n",
    "        # Puntaje obtenido por el genome actual\n",
    "        current_score = 0\n",
    "        # Contador de la cantidad de movimientos\n",
    "        # realizados por el gnome con mayor puntaje\n",
    "        counter = 0\n",
    "        # Valor de estado actual, indica si la partida acaba\n",
    "        done = False\n",
    "        # Numero de saltos iniciales ya realizados hasta la etapa 2\n",
    "        # Ahora en la etapa 2 se consideran saltos sobre simios\n",
    "        # Inicia en 132 por movimientos realizados en la etapa 1\n",
    "        prev_jump_score = 132\n",
    "        # Mientras la partida no acabe\n",
    "        while not done:\n",
    "            env.render()\n",
    "            # Transforma el frame anterior a un arreglo unidimensional\n",
    "            oned_image = frame_to_array(ob)\n",
    "            # Recibe el output desde la red neuronal a partir del frame entregado\n",
    "            neuralnet_output = net.activate(oned_image)\n",
    "            # Movimiento de salida redondeado a su valor entero mas proximo 0 o 1.\n",
    "            neuralnet_output = [round(button,0) for button in neuralnet_output]\n",
    "            # Ejecuta acción obtenida anteriormente\n",
    "            # Obteniendo un nuevo frame ob\n",
    "            # un nuevo reward dependiendo del movimiento realizado\n",
    "            # y un nuevo indicador de done para saber el estado de Charlie\n",
    "            ob, rew, done, info = env.step(neuralnet_output)\n",
    "\n",
    "            # Saltos sobre simios actuales\n",
    "            actual_jump_score = info.get(\"jump_score\")\n",
    "            # Variación de saltos sobre simios\n",
    "            if actual_jump_score > prev_jump_score:\n",
    "                jump_score_variation = actual_jump_score-prev_jump_score\n",
    "                # Actualiza el valor de saltos sobre simios\n",
    "                prev_jump_score = actual_jump_score\n",
    "            else:\n",
    "                jump_score_variation = 0\n",
    "            \n",
    "            # Verifica si Charlie dio un paso hacia atrás (el muy cobarde)\n",
    "            if neuralnet_output[6]:\n",
    "                backward_walk = 1\n",
    "            else:\n",
    "                backward_walk = 0\n",
    "            \n",
    "            # Score actual acumulado\n",
    "            current_score = fitness_function(current_score,rew,jump_score_variation,backward_walk)\n",
    "\n",
    "            # Si el puntaje obtenido por el genome actual\n",
    "            # es mayor que el maximo de toda la generación\n",
    "            if current_score>current_max_score:\n",
    "                # El puntaje obtenido pasa a ser el nuevo maximo\n",
    "                current_max_score = current_score\n",
    "                # Reinicia el contador de pasos para llegar a este\n",
    "                counter = 0\n",
    "            # De no cumplirse\n",
    "            else:\n",
    "                # Suma al contador de pasos hasta llegar a este\n",
    "                counter+=1\n",
    "\n",
    "            # Si la partida acaba (mono colisiona con Charlie)\n",
    "            if done:\n",
    "                # Marca la partida como terminada\n",
    "                done = True \n",
    "                # Despliega el numero del genome con su puntaje obtenido\n",
    "                print(genome_id,current_score)\n",
    "\n",
    "            # Actualiza el puntaje del genoma por cada iteración de este\n",
    "            genome.fitness = current_score"
   ]
  },
  {
   "cell_type": "markdown",
   "metadata": {},
   "source": [
    "Para este caso la cantidad de genomes por generación estara estipulada en el fichero de configuración que es almacenado en la variable config, por tener las funcionalidades de un algoritmo genetico el tamaño de la población no debe ser muy bajo."
   ]
  },
  {
   "cell_type": "markdown",
   "metadata": {},
   "source": [
    "### main"
   ]
  },
  {
   "cell_type": "code",
   "execution_count": 16,
   "metadata": {},
   "outputs": [
    {
     "name": "stdout",
     "output_type": "stream",
     "text": [
      "\n",
      " ****** Running generation 0 ****** \n",
      "\n",
      "1 -80.29999999999971\n",
      "2 50.0\n",
      "3 -74.10000000000007\n",
      "4 -78.29999999999983\n",
      "5 -77.69999999999986\n",
      "Population's average fitness: -52.08000 stdev: 51.07925\n",
      "Best fitness: 50.00000 - size: (12, 5046) - species 1 - id 2\n",
      "Average adjusted fitness: 0.217\n",
      "Mean genetic distance 2.254, standard deviation 0.177\n",
      "Population of 5 members in 1 species:\n",
      "   ID   age  size  fitness  adj fit  stag\n",
      "  ====  ===  ====  =======  =======  ====\n",
      "     1    0     5     50.0    0.217     0\n",
      "Total extinctions: 0\n",
      "Generation time: 64.115 sec\n",
      "\n",
      " ****** Running generation 1 ****** \n",
      "\n"
     ]
    },
    {
     "ename": "KeyboardInterrupt",
     "evalue": "",
     "output_type": "error",
     "traceback": [
      "\u001b[1;31m---------------------------------------------------------------------------\u001b[0m",
      "\u001b[1;31mKeyboardInterrupt\u001b[0m                         Traceback (most recent call last)",
      "\u001b[1;32m<ipython-input-16-1a113eb956b0>\u001b[0m in \u001b[0;36m<module>\u001b[1;34m\u001b[0m\n\u001b[0;32m      7\u001b[0m     \u001b[0mp\u001b[0m\u001b[1;33m.\u001b[0m\u001b[0madd_reporter\u001b[0m\u001b[1;33m(\u001b[0m\u001b[0mneat\u001b[0m\u001b[1;33m.\u001b[0m\u001b[0mStatisticsReporter\u001b[0m\u001b[1;33m(\u001b[0m\u001b[1;33m)\u001b[0m\u001b[1;33m)\u001b[0m\u001b[1;33m\u001b[0m\u001b[1;33m\u001b[0m\u001b[0m\n\u001b[0;32m      8\u001b[0m     \u001b[0mp\u001b[0m\u001b[1;33m.\u001b[0m\u001b[0madd_reporter\u001b[0m\u001b[1;33m(\u001b[0m\u001b[0mneat\u001b[0m\u001b[1;33m.\u001b[0m\u001b[0mCheckpointer\u001b[0m\u001b[1;33m(\u001b[0m\u001b[1;36m10\u001b[0m\u001b[1;33m)\u001b[0m\u001b[1;33m)\u001b[0m\u001b[1;33m\u001b[0m\u001b[1;33m\u001b[0m\u001b[0m\n\u001b[1;32m----> 9\u001b[1;33m     \u001b[0mwinner\u001b[0m \u001b[1;33m=\u001b[0m \u001b[0mp\u001b[0m\u001b[1;33m.\u001b[0m\u001b[0mrun\u001b[0m\u001b[1;33m(\u001b[0m\u001b[0meval_genomes\u001b[0m\u001b[1;33m)\u001b[0m\u001b[1;33m\u001b[0m\u001b[1;33m\u001b[0m\u001b[0m\n\u001b[0m\u001b[0;32m     10\u001b[0m     \u001b[1;32mwith\u001b[0m \u001b[0mopen\u001b[0m\u001b[1;33m(\u001b[0m\u001b[1;34m'winner.pkl'\u001b[0m\u001b[1;33m,\u001b[0m \u001b[1;34m'wb'\u001b[0m\u001b[1;33m)\u001b[0m \u001b[1;32mas\u001b[0m \u001b[0moutput\u001b[0m\u001b[1;33m:\u001b[0m\u001b[1;33m\u001b[0m\u001b[1;33m\u001b[0m\u001b[0m\n\u001b[0;32m     11\u001b[0m         \u001b[0mpickle\u001b[0m\u001b[1;33m.\u001b[0m\u001b[0mdump\u001b[0m\u001b[1;33m(\u001b[0m\u001b[0mwinner\u001b[0m\u001b[1;33m,\u001b[0m \u001b[0moutput\u001b[0m\u001b[1;33m,\u001b[0m \u001b[1;36m1\u001b[0m\u001b[1;33m)\u001b[0m\u001b[1;33m\u001b[0m\u001b[1;33m\u001b[0m\u001b[0m\n",
      "\u001b[1;32m~\\Anaconda3\\lib\\site-packages\\neat\\population.py\u001b[0m in \u001b[0;36mrun\u001b[1;34m(self, fitness_function, n)\u001b[0m\n\u001b[0;32m     87\u001b[0m \u001b[1;33m\u001b[0m\u001b[0m\n\u001b[0;32m     88\u001b[0m             \u001b[1;31m# Evaluate all genomes using the user-provided function.\u001b[0m\u001b[1;33m\u001b[0m\u001b[1;33m\u001b[0m\u001b[1;33m\u001b[0m\u001b[0m\n\u001b[1;32m---> 89\u001b[1;33m             \u001b[0mfitness_function\u001b[0m\u001b[1;33m(\u001b[0m\u001b[0mlist\u001b[0m\u001b[1;33m(\u001b[0m\u001b[0miteritems\u001b[0m\u001b[1;33m(\u001b[0m\u001b[0mself\u001b[0m\u001b[1;33m.\u001b[0m\u001b[0mpopulation\u001b[0m\u001b[1;33m)\u001b[0m\u001b[1;33m)\u001b[0m\u001b[1;33m,\u001b[0m \u001b[0mself\u001b[0m\u001b[1;33m.\u001b[0m\u001b[0mconfig\u001b[0m\u001b[1;33m)\u001b[0m\u001b[1;33m\u001b[0m\u001b[1;33m\u001b[0m\u001b[0m\n\u001b[0m\u001b[0;32m     90\u001b[0m \u001b[1;33m\u001b[0m\u001b[0m\n\u001b[0;32m     91\u001b[0m             \u001b[1;31m# Gather and report statistics.\u001b[0m\u001b[1;33m\u001b[0m\u001b[1;33m\u001b[0m\u001b[1;33m\u001b[0m\u001b[0m\n",
      "\u001b[1;32m<ipython-input-12-b7c88b112a6f>\u001b[0m in \u001b[0;36meval_genomes\u001b[1;34m(genomes, config)\u001b[0m\n\u001b[0;32m     20\u001b[0m         \u001b[1;31m# Mientras la partida no acabe\u001b[0m\u001b[1;33m\u001b[0m\u001b[1;33m\u001b[0m\u001b[1;33m\u001b[0m\u001b[0m\n\u001b[0;32m     21\u001b[0m         \u001b[1;32mwhile\u001b[0m \u001b[1;32mnot\u001b[0m \u001b[0mdone\u001b[0m\u001b[1;33m:\u001b[0m\u001b[1;33m\u001b[0m\u001b[1;33m\u001b[0m\u001b[0m\n\u001b[1;32m---> 22\u001b[1;33m             \u001b[0menv\u001b[0m\u001b[1;33m.\u001b[0m\u001b[0mrender\u001b[0m\u001b[1;33m(\u001b[0m\u001b[1;33m)\u001b[0m\u001b[1;33m\u001b[0m\u001b[1;33m\u001b[0m\u001b[0m\n\u001b[0m\u001b[0;32m     23\u001b[0m             \u001b[1;31m# Transforma el frame anterior a un arreglo unidimensional\u001b[0m\u001b[1;33m\u001b[0m\u001b[1;33m\u001b[0m\u001b[1;33m\u001b[0m\u001b[0m\n\u001b[0;32m     24\u001b[0m             \u001b[0moned_image\u001b[0m \u001b[1;33m=\u001b[0m \u001b[0mframe_to_array\u001b[0m\u001b[1;33m(\u001b[0m\u001b[0mob\u001b[0m\u001b[1;33m)\u001b[0m\u001b[1;33m\u001b[0m\u001b[1;33m\u001b[0m\u001b[0m\n",
      "\u001b[1;32m~\\Anaconda3\\lib\\site-packages\\retro\\retro_env.py\u001b[0m in \u001b[0;36mrender\u001b[1;34m(self, mode, close)\u001b[0m\n\u001b[0;32m    228\u001b[0m                 \u001b[1;32mfrom\u001b[0m \u001b[0mgym\u001b[0m\u001b[1;33m.\u001b[0m\u001b[0menvs\u001b[0m\u001b[1;33m.\u001b[0m\u001b[0mclassic_control\u001b[0m\u001b[1;33m.\u001b[0m\u001b[0mrendering\u001b[0m \u001b[1;32mimport\u001b[0m \u001b[0mSimpleImageViewer\u001b[0m\u001b[1;33m\u001b[0m\u001b[1;33m\u001b[0m\u001b[0m\n\u001b[0;32m    229\u001b[0m                 \u001b[0mself\u001b[0m\u001b[1;33m.\u001b[0m\u001b[0mviewer\u001b[0m \u001b[1;33m=\u001b[0m \u001b[0mSimpleImageViewer\u001b[0m\u001b[1;33m(\u001b[0m\u001b[1;33m)\u001b[0m\u001b[1;33m\u001b[0m\u001b[1;33m\u001b[0m\u001b[0m\n\u001b[1;32m--> 230\u001b[1;33m             \u001b[0mself\u001b[0m\u001b[1;33m.\u001b[0m\u001b[0mviewer\u001b[0m\u001b[1;33m.\u001b[0m\u001b[0mimshow\u001b[0m\u001b[1;33m(\u001b[0m\u001b[0mimg\u001b[0m\u001b[1;33m)\u001b[0m\u001b[1;33m\u001b[0m\u001b[1;33m\u001b[0m\u001b[0m\n\u001b[0m\u001b[0;32m    231\u001b[0m             \u001b[1;32mreturn\u001b[0m \u001b[0mself\u001b[0m\u001b[1;33m.\u001b[0m\u001b[0mviewer\u001b[0m\u001b[1;33m.\u001b[0m\u001b[0misopen\u001b[0m\u001b[1;33m\u001b[0m\u001b[1;33m\u001b[0m\u001b[0m\n\u001b[0;32m    232\u001b[0m \u001b[1;33m\u001b[0m\u001b[0m\n",
      "\u001b[1;32m~\\Anaconda3\\lib\\site-packages\\gym\\envs\\classic_control\\rendering.py\u001b[0m in \u001b[0;36mimshow\u001b[1;34m(self, arr)\u001b[0m\n\u001b[0;32m    351\u001b[0m             'RGB', arr.tobytes(), pitch=arr.shape[1]*-3)\n\u001b[0;32m    352\u001b[0m         gl.glTexParameteri(gl.GL_TEXTURE_2D, \n\u001b[1;32m--> 353\u001b[1;33m             gl.GL_TEXTURE_MAG_FILTER, gl.GL_NEAREST)\n\u001b[0m\u001b[0;32m    354\u001b[0m         \u001b[0mtexture\u001b[0m \u001b[1;33m=\u001b[0m \u001b[0mimage\u001b[0m\u001b[1;33m.\u001b[0m\u001b[0mget_texture\u001b[0m\u001b[1;33m(\u001b[0m\u001b[1;33m)\u001b[0m\u001b[1;33m\u001b[0m\u001b[1;33m\u001b[0m\u001b[0m\n\u001b[0;32m    355\u001b[0m         \u001b[0mtexture\u001b[0m\u001b[1;33m.\u001b[0m\u001b[0mwidth\u001b[0m \u001b[1;33m=\u001b[0m \u001b[0mself\u001b[0m\u001b[1;33m.\u001b[0m\u001b[0mwidth\u001b[0m\u001b[1;33m\u001b[0m\u001b[1;33m\u001b[0m\u001b[0m\n",
      "\u001b[1;32m~\\Anaconda3\\lib\\site-packages\\pyglet\\gl\\lib.py\u001b[0m in \u001b[0;36merrcheck\u001b[1;34m(result, func, arguments)\u001b[0m\n\u001b[0;32m     83\u001b[0m     \u001b[1;32mpass\u001b[0m\u001b[1;33m\u001b[0m\u001b[1;33m\u001b[0m\u001b[0m\n\u001b[0;32m     84\u001b[0m \u001b[1;33m\u001b[0m\u001b[0m\n\u001b[1;32m---> 85\u001b[1;33m \u001b[1;32mdef\u001b[0m \u001b[0merrcheck\u001b[0m\u001b[1;33m(\u001b[0m\u001b[0mresult\u001b[0m\u001b[1;33m,\u001b[0m \u001b[0mfunc\u001b[0m\u001b[1;33m,\u001b[0m \u001b[0marguments\u001b[0m\u001b[1;33m)\u001b[0m\u001b[1;33m:\u001b[0m\u001b[1;33m\u001b[0m\u001b[1;33m\u001b[0m\u001b[0m\n\u001b[0m\u001b[0;32m     86\u001b[0m     \u001b[1;32mif\u001b[0m \u001b[0m_debug_gl_trace\u001b[0m\u001b[1;33m:\u001b[0m\u001b[1;33m\u001b[0m\u001b[1;33m\u001b[0m\u001b[0m\n\u001b[0;32m     87\u001b[0m         \u001b[1;32mtry\u001b[0m\u001b[1;33m:\u001b[0m\u001b[1;33m\u001b[0m\u001b[1;33m\u001b[0m\u001b[0m\n",
      "\u001b[1;31mKeyboardInterrupt\u001b[0m: "
     ]
    }
   ],
   "source": [
    "if __name__ == \"__main__\":\n",
    "    # Inicializa la configuración de la red neuronal y las caracteristicas de los genomas\n",
    "    config = neat.Config(neat.DefaultGenome, neat.DefaultReproduction,neat.DefaultSpeciesSet, neat.DefaultStagnation,'config-feedforward')\n",
    "    # Algorimo genetico de crecimiento poblacional\n",
    "    p = neat.Population(config)\n",
    "    p.add_reporter(neat.StdOutReporter(True))\n",
    "    p.add_reporter(neat.StatisticsReporter())\n",
    "    p.add_reporter(neat.Checkpointer(10))\n",
    "    winner = p.run(eval_genomes)\n",
    "    with open('winner.pkl', 'wb') as output:\n",
    "        pickle.dump(winner, output, 1)"
   ]
  },
  {
   "cell_type": "code",
   "execution_count": null,
   "metadata": {},
   "outputs": [],
   "source": []
  }
 ],
 "metadata": {
  "kernelspec": {
   "display_name": "Python 3",
   "language": "python",
   "name": "python3"
  },
  "language_info": {
   "codemirror_mode": {
    "name": "ipython",
    "version": 3
   },
   "file_extension": ".py",
   "mimetype": "text/x-python",
   "name": "python",
   "nbconvert_exporter": "python",
   "pygments_lexer": "ipython3",
   "version": "3.7.3"
  }
 },
 "nbformat": 4,
 "nbformat_minor": 2
}
